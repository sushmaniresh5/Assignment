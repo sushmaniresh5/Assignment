{
 "cells": [
  {
   "cell_type": "code",
   "execution_count": 1,
   "id": "f74f8175",
   "metadata": {},
   "outputs": [
    {
     "name": "stdout",
     "output_type": "stream",
     "text": [
      "enter the input log: D:100 W:300 D:400\n",
      "['D:100', 'W:300', 'D:400']\n",
      "200\n"
     ]
    }
   ],
   "source": [
    "inputlog = input('enter the input log: ').split(' ')\n",
    "print(inputlog)\n",
    "s=0\n",
    "for i in inputlog:\n",
    "    \n",
    "    if 'D' in i:\n",
    "        d = int(i.split(':')[-1])\n",
    "        s=s+d\n",
    "        \n",
    "    elif 'W' in i:\n",
    "        w = int(i.split(':')[-1])\n",
    "        s = s-w\n",
    "print(s)"
   ]
  },
  {
   "cell_type": "code",
   "execution_count": null,
   "id": "2e0774e5",
   "metadata": {},
   "outputs": [],
   "source": []
  }
 ],
 "metadata": {
  "kernelspec": {
   "display_name": "Python 3 (ipykernel)",
   "language": "python",
   "name": "python3"
  },
  "language_info": {
   "codemirror_mode": {
    "name": "ipython",
    "version": 3
   },
   "file_extension": ".py",
   "mimetype": "text/x-python",
   "name": "python",
   "nbconvert_exporter": "python",
   "pygments_lexer": "ipython3",
   "version": "3.10.7"
  }
 },
 "nbformat": 4,
 "nbformat_minor": 5
}

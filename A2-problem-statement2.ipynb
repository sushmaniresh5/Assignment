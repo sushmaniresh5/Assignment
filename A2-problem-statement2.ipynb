{
 "cells": [
  {
   "cell_type": "code",
   "execution_count": 1,
   "id": "f2d59fe2",
   "metadata": {},
   "outputs": [
    {
     "name": "stdout",
     "output_type": "stream",
     "text": [
      "unique list: [1, 2, 3, 4, 5]\n"
     ]
    }
   ],
   "source": [
    "L = [1, 1, 1, 1, 2, 2, 3, 3, 3, 3, 4, 5]\n",
    "\n",
    "# Initialize an empty list to store unique elements\n",
    "unique_elements = []\n",
    "\n",
    "# Iterate through the list\n",
    "for element in L:\n",
    "    # Check if the element is not already in the unique elements list\n",
    "    if element not in unique_elements:\n",
    "        unique_elements.append(element)\n",
    "\n",
    "# Print the unique elements\n",
    "print('unique list:',unique_elements)\n"
   ]
  },
  {
   "cell_type": "code",
   "execution_count": null,
   "id": "4a119808",
   "metadata": {},
   "outputs": [],
   "source": []
  }
 ],
 "metadata": {
  "kernelspec": {
   "display_name": "Python 3 (ipykernel)",
   "language": "python",
   "name": "python3"
  },
  "language_info": {
   "codemirror_mode": {
    "name": "ipython",
    "version": 3
   },
   "file_extension": ".py",
   "mimetype": "text/x-python",
   "name": "python",
   "nbconvert_exporter": "python",
   "pygments_lexer": "ipython3",
   "version": "3.10.7"
  }
 },
 "nbformat": 4,
 "nbformat_minor": 5
}

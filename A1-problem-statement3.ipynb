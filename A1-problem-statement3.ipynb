{
 "cells": [
  {
   "cell_type": "code",
   "execution_count": 3,
   "id": "3c4aab9a",
   "metadata": {},
   "outputs": [
    {
     "name": "stdout",
     "output_type": "stream",
     "text": [
      "Enter No of Calls: 400\n",
      "335.0\n"
     ]
    }
   ],
   "source": [
    "n = int(input(\"Enter No of Calls: \"))\n",
    "b=0\n",
    "if 100 - n > 0:\n",
    "    b = b+200\n",
    "elif 150 -n > 0:\n",
    "    b = b+200+(0.6 * (n-100))\n",
    "elif 200 -n > 0:\n",
    "    b = b+200 + (0.6*50) + (0.5*(n-150))\n",
    "else:\n",
    "    b =b + 200 + (0.6*50) + (0.5*50) + (0.4 * (n-200))\n",
    "\n",
    "print(b)"
   ]
  },
  {
   "cell_type": "code",
   "execution_count": 4,
   "id": "765504bc",
   "metadata": {},
   "outputs": [
    {
     "name": "stdout",
     "output_type": "stream",
     "text": [
      "Enter No of Calls: 600\n",
      "415.0\n"
     ]
    }
   ],
   "source": [
    "n = int(input(\"Enter No of Calls: \"))\n",
    "b=0\n",
    "if 100 - n > 0:\n",
    "    b = b+200\n",
    "elif 150 -n > 0:\n",
    "    b = b+200+(0.6 * (n-100))\n",
    "elif 200 -n > 0:\n",
    "    b = b+200 + (0.6*50) + (0.5*(n-150))\n",
    "else:\n",
    "    b =b + 200 + (0.6*50) + (0.5*50) + (0.4 * (n-200))\n",
    "\n",
    "print(b)"
   ]
  },
  {
   "cell_type": "code",
   "execution_count": null,
   "id": "5cace53e",
   "metadata": {},
   "outputs": [],
   "source": []
  }
 ],
 "metadata": {
  "kernelspec": {
   "display_name": "Python 3 (ipykernel)",
   "language": "python",
   "name": "python3"
  },
  "language_info": {
   "codemirror_mode": {
    "name": "ipython",
    "version": 3
   },
   "file_extension": ".py",
   "mimetype": "text/x-python",
   "name": "python",
   "nbconvert_exporter": "python",
   "pygments_lexer": "ipython3",
   "version": "3.10.7"
  }
 },
 "nbformat": 4,
 "nbformat_minor": 5
}

{
 "cells": [
  {
   "cell_type": "code",
   "execution_count": 3,
   "id": "0a5f4925",
   "metadata": {},
   "outputs": [
    {
     "name": "stdout",
     "output_type": "stream",
     "text": [
      "enter the string:The quick Brow Fox\n",
      "upper:3,lower:15\n"
     ]
    }
   ],
   "source": [
    "def check_upper_lower(a):\n",
    "    upper, lower = 0,0\n",
    "    for i in a:\n",
    "        if i.isupper():\n",
    "            upper += 1\n",
    "        else:\n",
    "            lower +=1\n",
    "    return upper,lower\n",
    "            \n",
    "s = input('enter the string:')\n",
    "\n",
    "u,l = check_upper_lower(s)\n",
    "print(f'upper:{u},lower:{l}')"
   ]
  },
  {
   "cell_type": "code",
   "execution_count": null,
   "id": "58a5be59",
   "metadata": {},
   "outputs": [],
   "source": []
  }
 ],
 "metadata": {
  "kernelspec": {
   "display_name": "Python 3 (ipykernel)",
   "language": "python",
   "name": "python3"
  },
  "language_info": {
   "codemirror_mode": {
    "name": "ipython",
    "version": 3
   },
   "file_extension": ".py",
   "mimetype": "text/x-python",
   "name": "python",
   "nbconvert_exporter": "python",
   "pygments_lexer": "ipython3",
   "version": "3.10.7"
  }
 },
 "nbformat": 4,
 "nbformat_minor": 5
}
